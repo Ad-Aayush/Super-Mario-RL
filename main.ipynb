{
 "cells": [
  {
   "cell_type": "code",
   "execution_count": 1,
   "metadata": {},
   "outputs": [
    {
     "name": "stdout",
     "output_type": "stream",
     "text": [
      "Requirement already satisfied: gym-super-mario-bros in ./.conda/lib/python3.8/site-packages (7.4.0)\n",
      "Requirement already satisfied: nes-py>=8.1.4 in ./.conda/lib/python3.8/site-packages (from gym-super-mario-bros) (8.2.1)\n",
      "Requirement already satisfied: gym>=0.17.2 in ./.conda/lib/python3.8/site-packages (from nes-py>=8.1.4->gym-super-mario-bros) (0.25.1)\n",
      "Requirement already satisfied: numpy>=1.18.5 in ./.conda/lib/python3.8/site-packages (from nes-py>=8.1.4->gym-super-mario-bros) (1.24.4)\n",
      "Requirement already satisfied: pyglet<=1.5.21,>=1.4.0 in ./.conda/lib/python3.8/site-packages (from nes-py>=8.1.4->gym-super-mario-bros) (1.5.21)\n",
      "Requirement already satisfied: tqdm>=4.48.2 in ./.conda/lib/python3.8/site-packages (from nes-py>=8.1.4->gym-super-mario-bros) (4.66.1)\n",
      "Requirement already satisfied: cloudpickle>=1.2.0 in ./.conda/lib/python3.8/site-packages (from gym>=0.17.2->nes-py>=8.1.4->gym-super-mario-bros) (3.0.0)\n",
      "Requirement already satisfied: gym-notices>=0.0.4 in ./.conda/lib/python3.8/site-packages (from gym>=0.17.2->nes-py>=8.1.4->gym-super-mario-bros) (0.0.8)\n",
      "Requirement already satisfied: importlib-metadata>=4.8.0 in ./.conda/lib/python3.8/site-packages (from gym>=0.17.2->nes-py>=8.1.4->gym-super-mario-bros) (7.0.1)\n",
      "Requirement already satisfied: zipp>=0.5 in ./.conda/lib/python3.8/site-packages (from importlib-metadata>=4.8.0->gym>=0.17.2->nes-py>=8.1.4->gym-super-mario-bros) (3.17.0)\n",
      "Note: you may need to restart the kernel to use updated packages.\n"
     ]
    }
   ],
   "source": [
    "%pip install gym-super-mario-bros"
   ]
  },
  {
   "cell_type": "code",
   "execution_count": 2,
   "metadata": {},
   "outputs": [
    {
     "name": "stdout",
     "output_type": "stream",
     "text": [
      "Requirement already satisfied: gym==0.25.1 in ./.conda/lib/python3.8/site-packages (from -r requirements.txt (line 1)) (0.25.1)\n",
      "Requirement already satisfied: matplotlib>=2.0.2 in ./.conda/lib/python3.8/site-packages (from -r requirements.txt (line 2)) (3.7.4)\n",
      "Requirement already satisfied: nes-py>=4.0.0 in ./.conda/lib/python3.8/site-packages (from -r requirements.txt (line 3)) (8.2.1)\n",
      "Requirement already satisfied: numpy>=1.14.2 in ./.conda/lib/python3.8/site-packages (from -r requirements.txt (line 4)) (1.24.4)\n",
      "Requirement already satisfied: opencv-python>=3.4.0.12 in ./.conda/lib/python3.8/site-packages (from -r requirements.txt (line 5)) (4.9.0.80)\n",
      "Requirement already satisfied: pygame>=1.9.3 in ./.conda/lib/python3.8/site-packages (from -r requirements.txt (line 6)) (2.5.2)\n",
      "Requirement already satisfied: pyglet>=1.3.2 in ./.conda/lib/python3.8/site-packages (from -r requirements.txt (line 7)) (1.5.21)\n",
      "Requirement already satisfied: setuptools>=39.0.1 in ./.conda/lib/python3.8/site-packages (from -r requirements.txt (line 8)) (69.0.3)\n",
      "Requirement already satisfied: tqdm>=4.19.5 in ./.conda/lib/python3.8/site-packages (from -r requirements.txt (line 9)) (4.66.1)\n",
      "Requirement already satisfied: twine>=1.11.0 in ./.conda/lib/python3.8/site-packages (from -r requirements.txt (line 10)) (4.0.2)\n",
      "Requirement already satisfied: cloudpickle>=1.2.0 in ./.conda/lib/python3.8/site-packages (from gym==0.25.1->-r requirements.txt (line 1)) (3.0.0)\n",
      "Requirement already satisfied: gym-notices>=0.0.4 in ./.conda/lib/python3.8/site-packages (from gym==0.25.1->-r requirements.txt (line 1)) (0.0.8)\n",
      "Requirement already satisfied: importlib-metadata>=4.8.0 in ./.conda/lib/python3.8/site-packages (from gym==0.25.1->-r requirements.txt (line 1)) (7.0.1)\n",
      "Requirement already satisfied: contourpy>=1.0.1 in ./.conda/lib/python3.8/site-packages (from matplotlib>=2.0.2->-r requirements.txt (line 2)) (1.1.1)\n",
      "Requirement already satisfied: cycler>=0.10 in ./.conda/lib/python3.8/site-packages (from matplotlib>=2.0.2->-r requirements.txt (line 2)) (0.12.1)\n",
      "Requirement already satisfied: fonttools>=4.22.0 in ./.conda/lib/python3.8/site-packages (from matplotlib>=2.0.2->-r requirements.txt (line 2)) (4.47.2)\n",
      "Requirement already satisfied: kiwisolver>=1.0.1 in ./.conda/lib/python3.8/site-packages (from matplotlib>=2.0.2->-r requirements.txt (line 2)) (1.4.5)\n",
      "Requirement already satisfied: packaging>=20.0 in ./.conda/lib/python3.8/site-packages (from matplotlib>=2.0.2->-r requirements.txt (line 2)) (23.2)\n",
      "Requirement already satisfied: pillow>=6.2.0 in ./.conda/lib/python3.8/site-packages (from matplotlib>=2.0.2->-r requirements.txt (line 2)) (10.2.0)\n",
      "Requirement already satisfied: pyparsing>=2.3.1 in ./.conda/lib/python3.8/site-packages (from matplotlib>=2.0.2->-r requirements.txt (line 2)) (3.1.1)\n",
      "Requirement already satisfied: python-dateutil>=2.7 in ./.conda/lib/python3.8/site-packages (from matplotlib>=2.0.2->-r requirements.txt (line 2)) (2.8.2)\n",
      "Requirement already satisfied: importlib-resources>=3.2.0 in ./.conda/lib/python3.8/site-packages (from matplotlib>=2.0.2->-r requirements.txt (line 2)) (6.1.1)\n",
      "Requirement already satisfied: pkginfo>=1.8.1 in ./.conda/lib/python3.8/site-packages (from twine>=1.11.0->-r requirements.txt (line 10)) (1.9.6)\n",
      "Requirement already satisfied: readme-renderer>=35.0 in ./.conda/lib/python3.8/site-packages (from twine>=1.11.0->-r requirements.txt (line 10)) (42.0)\n",
      "Requirement already satisfied: requests>=2.20 in ./.conda/lib/python3.8/site-packages (from twine>=1.11.0->-r requirements.txt (line 10)) (2.31.0)\n",
      "Requirement already satisfied: requests-toolbelt!=0.9.0,>=0.8.0 in ./.conda/lib/python3.8/site-packages (from twine>=1.11.0->-r requirements.txt (line 10)) (1.0.0)\n",
      "Requirement already satisfied: urllib3>=1.26.0 in ./.conda/lib/python3.8/site-packages (from twine>=1.11.0->-r requirements.txt (line 10)) (2.1.0)\n",
      "Requirement already satisfied: keyring>=15.1 in ./.conda/lib/python3.8/site-packages (from twine>=1.11.0->-r requirements.txt (line 10)) (24.3.0)\n",
      "Requirement already satisfied: rfc3986>=1.4.0 in ./.conda/lib/python3.8/site-packages (from twine>=1.11.0->-r requirements.txt (line 10)) (2.0.0)\n",
      "Requirement already satisfied: rich>=12.0.0 in ./.conda/lib/python3.8/site-packages (from twine>=1.11.0->-r requirements.txt (line 10)) (13.7.0)\n",
      "Requirement already satisfied: zipp>=0.5 in ./.conda/lib/python3.8/site-packages (from importlib-metadata>=4.8.0->gym==0.25.1->-r requirements.txt (line 1)) (3.17.0)\n",
      "Requirement already satisfied: jaraco.classes in ./.conda/lib/python3.8/site-packages (from keyring>=15.1->twine>=1.11.0->-r requirements.txt (line 10)) (3.3.0)\n",
      "Requirement already satisfied: SecretStorage>=3.2 in ./.conda/lib/python3.8/site-packages (from keyring>=15.1->twine>=1.11.0->-r requirements.txt (line 10)) (3.3.3)\n",
      "Requirement already satisfied: jeepney>=0.4.2 in ./.conda/lib/python3.8/site-packages (from keyring>=15.1->twine>=1.11.0->-r requirements.txt (line 10)) (0.8.0)\n",
      "Requirement already satisfied: six>=1.5 in ./.conda/lib/python3.8/site-packages (from python-dateutil>=2.7->matplotlib>=2.0.2->-r requirements.txt (line 2)) (1.16.0)\n",
      "Requirement already satisfied: nh3>=0.2.14 in ./.conda/lib/python3.8/site-packages (from readme-renderer>=35.0->twine>=1.11.0->-r requirements.txt (line 10)) (0.2.15)\n",
      "Requirement already satisfied: docutils>=0.13.1 in ./.conda/lib/python3.8/site-packages (from readme-renderer>=35.0->twine>=1.11.0->-r requirements.txt (line 10)) (0.20.1)\n",
      "Requirement already satisfied: Pygments>=2.5.1 in ./.conda/lib/python3.8/site-packages (from readme-renderer>=35.0->twine>=1.11.0->-r requirements.txt (line 10)) (2.17.2)\n",
      "Requirement already satisfied: charset-normalizer<4,>=2 in ./.conda/lib/python3.8/site-packages (from requests>=2.20->twine>=1.11.0->-r requirements.txt (line 10)) (3.3.2)\n",
      "Requirement already satisfied: idna<4,>=2.5 in ./.conda/lib/python3.8/site-packages (from requests>=2.20->twine>=1.11.0->-r requirements.txt (line 10)) (3.6)\n",
      "Requirement already satisfied: certifi>=2017.4.17 in ./.conda/lib/python3.8/site-packages (from requests>=2.20->twine>=1.11.0->-r requirements.txt (line 10)) (2023.11.17)\n",
      "Requirement already satisfied: markdown-it-py>=2.2.0 in ./.conda/lib/python3.8/site-packages (from rich>=12.0.0->twine>=1.11.0->-r requirements.txt (line 10)) (3.0.0)\n",
      "Requirement already satisfied: typing-extensions<5.0,>=4.0.0 in ./.conda/lib/python3.8/site-packages (from rich>=12.0.0->twine>=1.11.0->-r requirements.txt (line 10)) (4.9.0)\n",
      "Requirement already satisfied: mdurl~=0.1 in ./.conda/lib/python3.8/site-packages (from markdown-it-py>=2.2.0->rich>=12.0.0->twine>=1.11.0->-r requirements.txt (line 10)) (0.1.2)\n",
      "Requirement already satisfied: cryptography>=2.0 in ./.conda/lib/python3.8/site-packages (from SecretStorage>=3.2->keyring>=15.1->twine>=1.11.0->-r requirements.txt (line 10)) (42.0.1)\n",
      "Requirement already satisfied: more-itertools in ./.conda/lib/python3.8/site-packages (from jaraco.classes->keyring>=15.1->twine>=1.11.0->-r requirements.txt (line 10)) (10.2.0)\n",
      "Requirement already satisfied: cffi>=1.12 in ./.conda/lib/python3.8/site-packages (from cryptography>=2.0->SecretStorage>=3.2->keyring>=15.1->twine>=1.11.0->-r requirements.txt (line 10)) (1.16.0)\n",
      "Requirement already satisfied: pycparser in ./.conda/lib/python3.8/site-packages (from cffi>=1.12->cryptography>=2.0->SecretStorage>=3.2->keyring>=15.1->twine>=1.11.0->-r requirements.txt (line 10)) (2.21)\n",
      "Note: you may need to restart the kernel to use updated packages.\n"
     ]
    }
   ],
   "source": [
    "%pip install -r requirements.txt "
   ]
  },
  {
   "cell_type": "code",
   "execution_count": 3,
   "metadata": {},
   "outputs": [
    {
     "name": "stdout",
     "output_type": "stream",
     "text": [
      "Looking in indexes: https://download.pytorch.org/whl/cu118\n",
      "Requirement already satisfied: torch in ./.conda/lib/python3.8/site-packages (2.1.2+cu118)\n",
      "Requirement already satisfied: torchvision in ./.conda/lib/python3.8/site-packages (0.16.2+cu118)\n",
      "Requirement already satisfied: torchaudio in ./.conda/lib/python3.8/site-packages (2.1.2+cu118)\n",
      "Requirement already satisfied: filelock in ./.conda/lib/python3.8/site-packages (from torch) (3.9.0)\n",
      "Requirement already satisfied: typing-extensions in ./.conda/lib/python3.8/site-packages (from torch) (4.9.0)\n",
      "Requirement already satisfied: sympy in ./.conda/lib/python3.8/site-packages (from torch) (1.12)\n",
      "Requirement already satisfied: networkx in ./.conda/lib/python3.8/site-packages (from torch) (3.0)\n",
      "Requirement already satisfied: jinja2 in ./.conda/lib/python3.8/site-packages (from torch) (3.1.2)\n",
      "Requirement already satisfied: fsspec in ./.conda/lib/python3.8/site-packages (from torch) (2023.4.0)\n",
      "Requirement already satisfied: triton==2.1.0 in ./.conda/lib/python3.8/site-packages (from torch) (2.1.0)\n",
      "Requirement already satisfied: numpy in ./.conda/lib/python3.8/site-packages (from torchvision) (1.24.4)\n",
      "Requirement already satisfied: requests in ./.conda/lib/python3.8/site-packages (from torchvision) (2.31.0)\n",
      "Requirement already satisfied: pillow!=8.3.*,>=5.3.0 in ./.conda/lib/python3.8/site-packages (from torchvision) (10.2.0)\n",
      "Requirement already satisfied: MarkupSafe>=2.0 in ./.conda/lib/python3.8/site-packages (from jinja2->torch) (2.1.3)\n",
      "Requirement already satisfied: charset-normalizer<4,>=2 in ./.conda/lib/python3.8/site-packages (from requests->torchvision) (3.3.2)\n",
      "Requirement already satisfied: idna<4,>=2.5 in ./.conda/lib/python3.8/site-packages (from requests->torchvision) (3.6)\n",
      "Requirement already satisfied: urllib3<3,>=1.21.1 in ./.conda/lib/python3.8/site-packages (from requests->torchvision) (2.1.0)\n",
      "Requirement already satisfied: certifi>=2017.4.17 in ./.conda/lib/python3.8/site-packages (from requests->torchvision) (2023.11.17)\n",
      "Requirement already satisfied: mpmath>=0.19 in ./.conda/lib/python3.8/site-packages (from sympy->torch) (1.3.0)\n",
      "Note: you may need to restart the kernel to use updated packages.\n"
     ]
    }
   ],
   "source": [
    "%pip install torch torchvision torchaudio --index-url https://download.pytorch.org/whl/cu118"
   ]
  },
  {
   "cell_type": "code",
   "execution_count": 4,
   "metadata": {},
   "outputs": [
    {
     "name": "stdout",
     "output_type": "stream",
     "text": [
      "Requirement already satisfied: stable-baselines3[extra] in ./.conda/lib/python3.8/site-packages (2.2.1)\n",
      "Requirement already satisfied: gymnasium<0.30,>=0.28.1 in ./.conda/lib/python3.8/site-packages (from stable-baselines3[extra]) (0.29.1)\n",
      "Requirement already satisfied: numpy>=1.20 in ./.conda/lib/python3.8/site-packages (from stable-baselines3[extra]) (1.24.4)\n",
      "Requirement already satisfied: torch>=1.13 in ./.conda/lib/python3.8/site-packages (from stable-baselines3[extra]) (2.1.2+cu118)\n",
      "Requirement already satisfied: cloudpickle in ./.conda/lib/python3.8/site-packages (from stable-baselines3[extra]) (3.0.0)\n",
      "Requirement already satisfied: pandas in ./.conda/lib/python3.8/site-packages (from stable-baselines3[extra]) (2.0.3)\n",
      "Requirement already satisfied: matplotlib in ./.conda/lib/python3.8/site-packages (from stable-baselines3[extra]) (3.7.4)\n",
      "Requirement already satisfied: opencv-python in ./.conda/lib/python3.8/site-packages (from stable-baselines3[extra]) (4.9.0.80)\n",
      "Requirement already satisfied: pygame in ./.conda/lib/python3.8/site-packages (from stable-baselines3[extra]) (2.5.2)\n",
      "Requirement already satisfied: tensorboard>=2.9.1 in ./.conda/lib/python3.8/site-packages (from stable-baselines3[extra]) (2.14.0)\n",
      "Requirement already satisfied: psutil in ./.conda/lib/python3.8/site-packages (from stable-baselines3[extra]) (5.9.8)\n",
      "Requirement already satisfied: tqdm in ./.conda/lib/python3.8/site-packages (from stable-baselines3[extra]) (4.66.1)\n",
      "Requirement already satisfied: rich in ./.conda/lib/python3.8/site-packages (from stable-baselines3[extra]) (13.7.0)\n",
      "Requirement already satisfied: shimmy~=1.3.0 in ./.conda/lib/python3.8/site-packages (from shimmy[atari]~=1.3.0; extra == \"extra\"->stable-baselines3[extra]) (1.3.0)\n",
      "Requirement already satisfied: pillow in ./.conda/lib/python3.8/site-packages (from stable-baselines3[extra]) (10.2.0)\n",
      "Requirement already satisfied: autorom~=0.6.1 in ./.conda/lib/python3.8/site-packages (from autorom[accept-rom-license]~=0.6.1; extra == \"extra\"->stable-baselines3[extra]) (0.6.1)\n",
      "Requirement already satisfied: click in ./.conda/lib/python3.8/site-packages (from autorom~=0.6.1->autorom[accept-rom-license]~=0.6.1; extra == \"extra\"->stable-baselines3[extra]) (8.1.7)\n",
      "Requirement already satisfied: requests in ./.conda/lib/python3.8/site-packages (from autorom~=0.6.1->autorom[accept-rom-license]~=0.6.1; extra == \"extra\"->stable-baselines3[extra]) (2.31.0)\n",
      "Requirement already satisfied: importlib-resources in ./.conda/lib/python3.8/site-packages (from autorom~=0.6.1->autorom[accept-rom-license]~=0.6.1; extra == \"extra\"->stable-baselines3[extra]) (6.1.1)\n",
      "Requirement already satisfied: AutoROM.accept-rom-license in ./.conda/lib/python3.8/site-packages (from autorom[accept-rom-license]~=0.6.1; extra == \"extra\"->stable-baselines3[extra]) (0.6.1)\n",
      "Requirement already satisfied: typing-extensions>=4.3.0 in ./.conda/lib/python3.8/site-packages (from gymnasium<0.30,>=0.28.1->stable-baselines3[extra]) (4.9.0)\n",
      "Requirement already satisfied: farama-notifications>=0.0.1 in ./.conda/lib/python3.8/site-packages (from gymnasium<0.30,>=0.28.1->stable-baselines3[extra]) (0.0.4)\n",
      "Requirement already satisfied: importlib-metadata>=4.8.0 in ./.conda/lib/python3.8/site-packages (from gymnasium<0.30,>=0.28.1->stable-baselines3[extra]) (7.0.1)\n",
      "Requirement already satisfied: ale-py~=0.8.1 in ./.conda/lib/python3.8/site-packages (from shimmy[atari]~=1.3.0; extra == \"extra\"->stable-baselines3[extra]) (0.8.1)\n",
      "Requirement already satisfied: absl-py>=0.4 in ./.conda/lib/python3.8/site-packages (from tensorboard>=2.9.1->stable-baselines3[extra]) (2.1.0)\n",
      "Requirement already satisfied: grpcio>=1.48.2 in ./.conda/lib/python3.8/site-packages (from tensorboard>=2.9.1->stable-baselines3[extra]) (1.60.0)\n",
      "Requirement already satisfied: google-auth<3,>=1.6.3 in ./.conda/lib/python3.8/site-packages (from tensorboard>=2.9.1->stable-baselines3[extra]) (2.27.0)\n",
      "Requirement already satisfied: google-auth-oauthlib<1.1,>=0.5 in ./.conda/lib/python3.8/site-packages (from tensorboard>=2.9.1->stable-baselines3[extra]) (1.0.0)\n",
      "Requirement already satisfied: markdown>=2.6.8 in ./.conda/lib/python3.8/site-packages (from tensorboard>=2.9.1->stable-baselines3[extra]) (3.5.2)\n",
      "Requirement already satisfied: protobuf>=3.19.6 in ./.conda/lib/python3.8/site-packages (from tensorboard>=2.9.1->stable-baselines3[extra]) (4.25.2)\n",
      "Requirement already satisfied: setuptools>=41.0.0 in ./.conda/lib/python3.8/site-packages (from tensorboard>=2.9.1->stable-baselines3[extra]) (69.0.3)\n",
      "Requirement already satisfied: tensorboard-data-server<0.8.0,>=0.7.0 in ./.conda/lib/python3.8/site-packages (from tensorboard>=2.9.1->stable-baselines3[extra]) (0.7.2)\n",
      "Requirement already satisfied: werkzeug>=1.0.1 in ./.conda/lib/python3.8/site-packages (from tensorboard>=2.9.1->stable-baselines3[extra]) (3.0.1)\n",
      "Requirement already satisfied: wheel>=0.26 in ./.conda/lib/python3.8/site-packages (from tensorboard>=2.9.1->stable-baselines3[extra]) (0.42.0)\n",
      "Requirement already satisfied: filelock in ./.conda/lib/python3.8/site-packages (from torch>=1.13->stable-baselines3[extra]) (3.9.0)\n",
      "Requirement already satisfied: sympy in ./.conda/lib/python3.8/site-packages (from torch>=1.13->stable-baselines3[extra]) (1.12)\n",
      "Requirement already satisfied: networkx in ./.conda/lib/python3.8/site-packages (from torch>=1.13->stable-baselines3[extra]) (3.0)\n",
      "Requirement already satisfied: jinja2 in ./.conda/lib/python3.8/site-packages (from torch>=1.13->stable-baselines3[extra]) (3.1.2)\n",
      "Requirement already satisfied: fsspec in ./.conda/lib/python3.8/site-packages (from torch>=1.13->stable-baselines3[extra]) (2023.4.0)\n",
      "Requirement already satisfied: triton==2.1.0 in ./.conda/lib/python3.8/site-packages (from torch>=1.13->stable-baselines3[extra]) (2.1.0)\n",
      "Requirement already satisfied: contourpy>=1.0.1 in ./.conda/lib/python3.8/site-packages (from matplotlib->stable-baselines3[extra]) (1.1.1)\n",
      "Requirement already satisfied: cycler>=0.10 in ./.conda/lib/python3.8/site-packages (from matplotlib->stable-baselines3[extra]) (0.12.1)\n",
      "Requirement already satisfied: fonttools>=4.22.0 in ./.conda/lib/python3.8/site-packages (from matplotlib->stable-baselines3[extra]) (4.47.2)\n",
      "Requirement already satisfied: kiwisolver>=1.0.1 in ./.conda/lib/python3.8/site-packages (from matplotlib->stable-baselines3[extra]) (1.4.5)\n",
      "Requirement already satisfied: packaging>=20.0 in ./.conda/lib/python3.8/site-packages (from matplotlib->stable-baselines3[extra]) (23.2)\n",
      "Requirement already satisfied: pyparsing>=2.3.1 in ./.conda/lib/python3.8/site-packages (from matplotlib->stable-baselines3[extra]) (3.1.1)\n",
      "Requirement already satisfied: python-dateutil>=2.7 in ./.conda/lib/python3.8/site-packages (from matplotlib->stable-baselines3[extra]) (2.8.2)\n",
      "Requirement already satisfied: pytz>=2020.1 in ./.conda/lib/python3.8/site-packages (from pandas->stable-baselines3[extra]) (2023.3.post1)\n",
      "Requirement already satisfied: tzdata>=2022.1 in ./.conda/lib/python3.8/site-packages (from pandas->stable-baselines3[extra]) (2023.4)\n",
      "Requirement already satisfied: markdown-it-py>=2.2.0 in ./.conda/lib/python3.8/site-packages (from rich->stable-baselines3[extra]) (3.0.0)\n",
      "Requirement already satisfied: pygments<3.0.0,>=2.13.0 in ./.conda/lib/python3.8/site-packages (from rich->stable-baselines3[extra]) (2.17.2)\n",
      "Requirement already satisfied: cachetools<6.0,>=2.0.0 in ./.conda/lib/python3.8/site-packages (from google-auth<3,>=1.6.3->tensorboard>=2.9.1->stable-baselines3[extra]) (5.3.2)\n",
      "Requirement already satisfied: pyasn1-modules>=0.2.1 in ./.conda/lib/python3.8/site-packages (from google-auth<3,>=1.6.3->tensorboard>=2.9.1->stable-baselines3[extra]) (0.3.0)\n",
      "Requirement already satisfied: rsa<5,>=3.1.4 in ./.conda/lib/python3.8/site-packages (from google-auth<3,>=1.6.3->tensorboard>=2.9.1->stable-baselines3[extra]) (4.9)\n",
      "Requirement already satisfied: requests-oauthlib>=0.7.0 in ./.conda/lib/python3.8/site-packages (from google-auth-oauthlib<1.1,>=0.5->tensorboard>=2.9.1->stable-baselines3[extra]) (1.3.1)\n",
      "Requirement already satisfied: zipp>=0.5 in ./.conda/lib/python3.8/site-packages (from importlib-metadata>=4.8.0->gymnasium<0.30,>=0.28.1->stable-baselines3[extra]) (3.17.0)\n",
      "Requirement already satisfied: mdurl~=0.1 in ./.conda/lib/python3.8/site-packages (from markdown-it-py>=2.2.0->rich->stable-baselines3[extra]) (0.1.2)\n",
      "Requirement already satisfied: six>=1.5 in ./.conda/lib/python3.8/site-packages (from python-dateutil>=2.7->matplotlib->stable-baselines3[extra]) (1.16.0)\n",
      "Requirement already satisfied: charset-normalizer<4,>=2 in ./.conda/lib/python3.8/site-packages (from requests->autorom~=0.6.1->autorom[accept-rom-license]~=0.6.1; extra == \"extra\"->stable-baselines3[extra]) (3.3.2)\n",
      "Requirement already satisfied: idna<4,>=2.5 in ./.conda/lib/python3.8/site-packages (from requests->autorom~=0.6.1->autorom[accept-rom-license]~=0.6.1; extra == \"extra\"->stable-baselines3[extra]) (3.6)\n",
      "Requirement already satisfied: urllib3<3,>=1.21.1 in ./.conda/lib/python3.8/site-packages (from requests->autorom~=0.6.1->autorom[accept-rom-license]~=0.6.1; extra == \"extra\"->stable-baselines3[extra]) (2.1.0)\n",
      "Requirement already satisfied: certifi>=2017.4.17 in ./.conda/lib/python3.8/site-packages (from requests->autorom~=0.6.1->autorom[accept-rom-license]~=0.6.1; extra == \"extra\"->stable-baselines3[extra]) (2023.11.17)\n",
      "Requirement already satisfied: MarkupSafe>=2.1.1 in ./.conda/lib/python3.8/site-packages (from werkzeug>=1.0.1->tensorboard>=2.9.1->stable-baselines3[extra]) (2.1.3)\n",
      "Requirement already satisfied: mpmath>=0.19 in ./.conda/lib/python3.8/site-packages (from sympy->torch>=1.13->stable-baselines3[extra]) (1.3.0)\n",
      "Requirement already satisfied: pyasn1<0.6.0,>=0.4.6 in ./.conda/lib/python3.8/site-packages (from pyasn1-modules>=0.2.1->google-auth<3,>=1.6.3->tensorboard>=2.9.1->stable-baselines3[extra]) (0.5.1)\n",
      "Requirement already satisfied: oauthlib>=3.0.0 in ./.conda/lib/python3.8/site-packages (from requests-oauthlib>=0.7.0->google-auth-oauthlib<1.1,>=0.5->tensorboard>=2.9.1->stable-baselines3[extra]) (3.2.2)\n",
      "Note: you may need to restart the kernel to use updated packages.\n"
     ]
    }
   ],
   "source": [
    "%pip install 'stable-baselines3[extra]'"
   ]
  },
  {
   "cell_type": "code",
   "execution_count": 5,
   "metadata": {},
   "outputs": [
    {
     "name": "stderr",
     "output_type": "stream",
     "text": [
      "/home/aayush_ad/Code/.conda/lib/python3.8/site-packages/gym/envs/registration.py:593: UserWarning: \u001b[33mWARN: The environment SuperMarioBros-v0 is out of date. You should consider upgrading to version `v3`.\u001b[0m\n",
      "  logger.warn(\n"
     ]
    }
   ],
   "source": [
    "from nes_py.wrappers import JoypadSpace\n",
    "import gym\n",
    "from gym_super_mario_bros.actions import COMPLEX_MOVEMENT\n",
    "env = gym.make('SuperMarioBros-v0')\n",
    "env = JoypadSpace(env, COMPLEX_MOVEMENT)"
   ]
  },
  {
   "cell_type": "code",
   "execution_count": 6,
   "metadata": {},
   "outputs": [],
   "source": [
    "done = True\n",
    "env.reset()\n",
    "for step in range(500):\n",
    "    action = env.action_space.sample()\n",
    "    obs, reward, done, info = env.step(action)\n",
    "    # env.render()\n",
    "    if done:\n",
    "       state = env.reset()"
   ]
  },
  {
   "cell_type": "code",
   "execution_count": 7,
   "metadata": {},
   "outputs": [
    {
     "data": {
      "text/plain": [
       "True"
      ]
     },
     "execution_count": 7,
     "metadata": {},
     "output_type": "execute_result"
    }
   ],
   "source": [
    "import torch\n",
    "torch.cuda.is_available()"
   ]
  },
  {
   "cell_type": "code",
   "execution_count": 8,
   "metadata": {},
   "outputs": [],
   "source": [
    "from stable_baselines3 import PPO"
   ]
  },
  {
   "cell_type": "code",
   "execution_count": 9,
   "metadata": {},
   "outputs": [
    {
     "name": "stdout",
     "output_type": "stream",
     "text": [
      "Using cuda device\n",
      "Wrapping the env with a `Monitor` wrapper\n",
      "Wrapping the env in a DummyVecEnv.\n",
      "Wrapping the env in a VecTransposeImage.\n"
     ]
    },
    {
     "name": "stderr",
     "output_type": "stream",
     "text": [
      "/home/aayush_ad/Code/.conda/lib/python3.8/site-packages/stable_baselines3/common/vec_env/patch_gym.py:49: UserWarning: You provided an OpenAI Gym environment. We strongly recommend transitioning to Gymnasium environments. Stable-Baselines3 is automatically wrapping your environments in a compatibility layer, which could potentially cause issues.\n",
      "  warnings.warn(\n"
     ]
    },
    {
     "name": "stdout",
     "output_type": "stream",
     "text": [
      "-----------------------------\n",
      "| time/              |      |\n",
      "|    fps             | 116  |\n",
      "|    iterations      | 1    |\n",
      "|    time_elapsed    | 17   |\n",
      "|    total_timesteps | 2048 |\n",
      "-----------------------------\n",
      "-----------------------------------------\n",
      "| time/                   |             |\n",
      "|    fps                  | 76          |\n",
      "|    iterations           | 2           |\n",
      "|    time_elapsed         | 53          |\n",
      "|    total_timesteps      | 4096        |\n",
      "| train/                  |             |\n",
      "|    approx_kl            | 0.019369502 |\n",
      "|    clip_fraction        | 0.322       |\n",
      "|    clip_range           | 0.2         |\n",
      "|    entropy_loss         | -2.47       |\n",
      "|    explained_variance   | -0.000687   |\n",
      "|    learning_rate        | 0.0003      |\n",
      "|    loss                 | 2.17        |\n",
      "|    n_updates            | 10          |\n",
      "|    policy_gradient_loss | -0.0179     |\n",
      "|    value_loss           | 20.4        |\n",
      "-----------------------------------------\n",
      "----------------------------------------\n",
      "| time/                   |            |\n",
      "|    fps                  | 71         |\n",
      "|    iterations           | 3          |\n",
      "|    time_elapsed         | 85         |\n",
      "|    total_timesteps      | 6144       |\n",
      "| train/                  |            |\n",
      "|    approx_kl            | 0.03802929 |\n",
      "|    clip_fraction        | 0.43       |\n",
      "|    clip_range           | 0.2        |\n",
      "|    entropy_loss         | -2.4       |\n",
      "|    explained_variance   | 0.19       |\n",
      "|    learning_rate        | 0.0003     |\n",
      "|    loss                 | 1.76       |\n",
      "|    n_updates            | 20         |\n",
      "|    policy_gradient_loss | 0.00655    |\n",
      "|    value_loss           | 9.92       |\n",
      "----------------------------------------\n",
      "-----------------------------------------\n",
      "| time/                   |             |\n",
      "|    fps                  | 69          |\n",
      "|    iterations           | 4           |\n",
      "|    time_elapsed         | 117         |\n",
      "|    total_timesteps      | 8192        |\n",
      "| train/                  |             |\n",
      "|    approx_kl            | 0.015833214 |\n",
      "|    clip_fraction        | 0.236       |\n",
      "|    clip_range           | 0.2         |\n",
      "|    entropy_loss         | -2.35       |\n",
      "|    explained_variance   | 0.712       |\n",
      "|    learning_rate        | 0.0003      |\n",
      "|    loss                 | 0.216       |\n",
      "|    n_updates            | 30          |\n",
      "|    policy_gradient_loss | -0.00665    |\n",
      "|    value_loss           | 0.887       |\n",
      "-----------------------------------------\n"
     ]
    }
   ],
   "source": [
    "model = PPO(\"CnnPolicy\", env, verbose=1)\n",
    "model.learn(total_timesteps=7_000)\n",
    "\n",
    "vec_env = model.get_env()\n",
    "obs = vec_env.reset()\n",
    "for i in range(1000):\n",
    "    action, _states = model.predict(obs, deterministic=True)\n",
    "    obs, reward, done, info = vec_env.step(action)"
   ]
  }
 ],
 "metadata": {
  "kernelspec": {
   "display_name": "Python 3",
   "language": "python",
   "name": "python3"
  },
  "language_info": {
   "codemirror_mode": {
    "name": "ipython",
    "version": 3
   },
   "file_extension": ".py",
   "mimetype": "text/x-python",
   "name": "python",
   "nbconvert_exporter": "python",
   "pygments_lexer": "ipython3",
   "version": "3.8.18"
  }
 },
 "nbformat": 4,
 "nbformat_minor": 2
}
